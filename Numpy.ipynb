{
  "nbformat": 4,
  "nbformat_minor": 0,
  "metadata": {
    "colab": {
      "provenance": [],
      "authorship_tag": "ABX9TyNx/YN9q5ICKUlG1jGH2EFF",
      "include_colab_link": true
    },
    "kernelspec": {
      "name": "python3",
      "display_name": "Python 3"
    },
    "language_info": {
      "name": "python"
    }
  },
  "cells": [
    {
      "cell_type": "markdown",
      "metadata": {
        "id": "view-in-github",
        "colab_type": "text"
      },
      "source": [
        "<a href=\"https://colab.research.google.com/github/UUbaidurRehman/ML_DL/blob/main/Numpy.ipynb\" target=\"_parent\"><img src=\"https://colab.research.google.com/assets/colab-badge.svg\" alt=\"Open In Colab\"/></a>"
      ]
    },
    {
      "cell_type": "code",
      "execution_count": null,
      "metadata": {
        "id": "L5nJgoZrjUL7"
      },
      "outputs": [],
      "source": [
        "import numpy as np\n",
        "# import numpy as np"
      ]
    },
    {
      "cell_type": "code",
      "source": [
        "np.__version__\n",
        "# np.__version__"
      ],
      "metadata": {
        "colab": {
          "base_uri": "https://localhost:8080/",
          "height": 36
        },
        "id": "yR0OyI5NYZAQ",
        "outputId": "98ae028d-9f13-4c51-e90a-85c03df365d2"
      },
      "execution_count": null,
      "outputs": [
        {
          "output_type": "execute_result",
          "data": {
            "text/plain": [
              "'2.0.2'"
            ],
            "application/vnd.google.colaboratory.intrinsic+json": {
              "type": "string"
            }
          },
          "metadata": {},
          "execution_count": 2
        }
      ]
    },
    {
      "cell_type": "markdown",
      "source": [
        "Creating a numpy array"
      ],
      "metadata": {
        "id": "tHbiqc-TTB9w"
      }
    },
    {
      "cell_type": "code",
      "source": [
        "# fromm python list to np.array\n",
        "list1 = [1,2,3,4,5,6,7,8,9,10]\n",
        "\n",
        "print(\"list = \", list1)\n",
        "print(\"type of list = \", type(list1))\n",
        "\n",
        "list2 = np.array(list1)\n",
        "print(f\"numpy array = {list2}\", type(list2))"
      ],
      "metadata": {
        "colab": {
          "base_uri": "https://localhost:8080/"
        },
        "id": "iB2bTL7fTBF9",
        "outputId": "557b3c6d-e5a7-4ced-9256-c09559153e03"
      },
      "execution_count": null,
      "outputs": [
        {
          "output_type": "stream",
          "name": "stdout",
          "text": [
            "list =  [1, 2, 3, 4, 5, 6, 7, 8, 9, 10]\n",
            "type of list =  <class 'list'>\n",
            "numpy array = [ 1  2  3  4  5  6  7  8  9 10] <class 'numpy.ndarray'>\n"
          ]
        }
      ]
    },
    {
      "cell_type": "code",
      "source": [
        "np.array(list1)"
      ],
      "metadata": {
        "colab": {
          "base_uri": "https://localhost:8080/"
        },
        "id": "ExHTgvaUT4Li",
        "outputId": "ffd7b39b-6bea-4089-f62d-4595c7396657"
      },
      "execution_count": null,
      "outputs": [
        {
          "output_type": "execute_result",
          "data": {
            "text/plain": [
              "array([ 1,  2,  3,  4,  5,  6,  7,  8,  9, 10])"
            ]
          },
          "metadata": {},
          "execution_count": 4
        }
      ]
    },
    {
      "cell_type": "code",
      "source": [
        "# 2D array / matrix\n",
        "matrix1 = [[1,2,3],[4,5,6],[7,8,9]]\n",
        "np.array(matrix1)"
      ],
      "metadata": {
        "colab": {
          "base_uri": "https://localhost:8080/"
        },
        "id": "_WYJbqSSUJnv",
        "outputId": "77feaeb1-b2de-4619-b6eb-661dec16b9f5"
      },
      "execution_count": null,
      "outputs": [
        {
          "output_type": "execute_result",
          "data": {
            "text/plain": [
              "array([[1, 2, 3],\n",
              "       [4, 5, 6],\n",
              "       [7, 8, 9]])"
            ]
          },
          "metadata": {},
          "execution_count": 5
        }
      ]
    },
    {
      "cell_type": "markdown",
      "source": [
        "Operations"
      ],
      "metadata": {
        "id": "UXg-tWFYUfxJ"
      }
    },
    {
      "cell_type": "code",
      "source": [
        "#Addition of simple list vs np.array\n",
        "list1 = [1,2,3,4,5,6,7,8,9,10]\n",
        "list2 = [11,12,13,14,15,16,17,18,19,20]\n",
        "print(list1+list2)\n",
        "list1 = np.array(list1)\n",
        "list2 = np.array(list2)\n",
        "print(\"use of + on numpy array = \", list1+list2)"
      ],
      "metadata": {
        "colab": {
          "base_uri": "https://localhost:8080/"
        },
        "id": "D7RMZUqHXobk",
        "outputId": "6cca4792-0057-4339-ff0b-f5f23d8f7b97"
      },
      "execution_count": null,
      "outputs": [
        {
          "output_type": "stream",
          "name": "stdout",
          "text": [
            "[1, 2, 3, 4, 5, 6, 7, 8, 9, 10, 11, 12, 13, 14, 15, 16, 17, 18, 19, 20]\n",
            "use of + on numpy array =  [12 14 16 18 20 22 24 26 28 30]\n"
          ]
        }
      ]
    },
    {
      "cell_type": "code",
      "source": [
        "import time\n",
        "begin = time.time()\n",
        "listA = list(range(1000000))\n",
        "listB = list(range(1000000))\n",
        "result = []\n",
        "start = time.time()\n",
        "for i in range(len(listA)):\n",
        "  result.append(listA[i] + listB[i])\n",
        "end = time.time()\n",
        "print(\"addition of lists time:      \", end - start)\n",
        "arrayA = np.array (listA)\n",
        "arrayB = np.array (listB)\n",
        "start = time.time()\n",
        "result = arrayA + arrayB\n",
        "end = time.time()\n",
        "print(\"addition of NUmpy array time:\", end - start)\n",
        "final = time.time()\n",
        "print(final- begin)"
      ],
      "metadata": {
        "colab": {
          "base_uri": "https://localhost:8080/"
        },
        "id": "09-685ydWv2H",
        "outputId": "7c78f465-35bc-4d2e-a707-ce14f12a365f"
      },
      "execution_count": null,
      "outputs": [
        {
          "output_type": "stream",
          "name": "stdout",
          "text": [
            "addition of lists time:       0.16256356239318848\n",
            "addition of NUmpy array time: 0.01203465461730957\n",
            "0.35826635360717773\n"
          ]
        }
      ]
    },
    {
      "cell_type": "code",
      "source": [
        "import time\n",
        "listA = list(range(10000000))\n",
        "listB = list(range(10000000))\n",
        "start = time.time()\n",
        "result = []\n",
        "for i in range(len(listA)):\n",
        "    result.append((listA[i]  + listB[i]))\n",
        "end = time.time()\n",
        "print(\"time taken = \", end-start)\n",
        "\n",
        "listA = np.array(listA)\n",
        "listB = np.array(listB)\n",
        "start = time.time()\n",
        "result = listA + listB\n",
        "end = time.time()\n",
        "print(\"time taken by numpy array \", end - start)"
      ],
      "metadata": {
        "colab": {
          "base_uri": "https://localhost:8080/"
        },
        "id": "QEODE88nMqTI",
        "outputId": "ffa9bab5-7e18-45f9-df8e-4a155c4f0824"
      },
      "execution_count": null,
      "outputs": [
        {
          "output_type": "stream",
          "name": "stdout",
          "text": [
            "time taken =  1.701733112335205\n",
            "time taken by numpy array  0.13205647468566895\n"
          ]
        }
      ]
    },
    {
      "cell_type": "code",
      "source": [
        "print(list(range(0,100,5)))"
      ],
      "metadata": {
        "colab": {
          "base_uri": "https://localhost:8080/"
        },
        "id": "V52O1GxONoh8",
        "outputId": "ebe74b4f-9278-4a92-e1d3-3553300c47e9"
      },
      "execution_count": null,
      "outputs": [
        {
          "output_type": "stream",
          "name": "stdout",
          "text": [
            "[0, 5, 10, 15, 20, 25, 30, 35, 40, 45, 50, 55, 60, 65, 70, 75, 80, 85, 90, 95]\n"
          ]
        }
      ]
    },
    {
      "cell_type": "markdown",
      "source": [
        "arange: spaced values in array with given interval"
      ],
      "metadata": {
        "id": "dFoxp_qAc2yg"
      }
    },
    {
      "cell_type": "code",
      "source": [
        "#start, stop, and step\n",
        "print(np.arange(0,10))\n",
        "print(np.arange(0,50,6))"
      ],
      "metadata": {
        "colab": {
          "base_uri": "https://localhost:8080/"
        },
        "id": "9PuNof6AYTTv",
        "outputId": "9a913b7a-47fd-4463-b043-669a1145cf8e"
      },
      "execution_count": null,
      "outputs": [
        {
          "output_type": "stream",
          "name": "stdout",
          "text": [
            "[0 1 2 3 4 5 6 7 8 9]\n",
            "[ 0  6 12 18 24 30 36 42 48]\n"
          ]
        }
      ]
    },
    {
      "cell_type": "markdown",
      "source": [
        "array with zeros, and ones"
      ],
      "metadata": {
        "id": "ya02Ez-ncvPk"
      }
    },
    {
      "cell_type": "code",
      "source": [
        "print(np.zeros(3))\n",
        "print(np.zeros((2,4)))\n",
        "print(np.ones(5))\n",
        "print(np.ones((5,5)))"
      ],
      "metadata": {
        "colab": {
          "base_uri": "https://localhost:8080/"
        },
        "id": "dGxM7oO6jqC5",
        "outputId": "189c7c96-ba22-4268-e5a2-da5ef3429976"
      },
      "execution_count": null,
      "outputs": [
        {
          "output_type": "stream",
          "name": "stdout",
          "text": [
            "[0. 0. 0.]\n",
            "[[0. 0. 0. 0.]\n",
            " [0. 0. 0. 0.]]\n",
            "[1. 1. 1. 1. 1.]\n",
            "[[1. 1. 1. 1. 1.]\n",
            " [1. 1. 1. 1. 1.]\n",
            " [1. 1. 1. 1. 1.]\n",
            " [1. 1. 1. 1. 1.]\n",
            " [1. 1. 1. 1. 1.]]\n"
          ]
        }
      ]
    },
    {
      "cell_type": "markdown",
      "source": [
        "Linspace: spaced number of values"
      ],
      "metadata": {
        "id": "ssmp-WBedefZ"
      }
    },
    {
      "cell_type": "code",
      "source": [
        "#start,inclusive stop,number of values\n",
        "np.linspace(0,10,5)"
      ],
      "metadata": {
        "colab": {
          "base_uri": "https://localhost:8080/"
        },
        "id": "WSd2jcL7kIS8",
        "outputId": "a38d58de-99a3-4bdf-f7d2-6498fefaa2f5"
      },
      "execution_count": null,
      "outputs": [
        {
          "output_type": "execute_result",
          "data": {
            "text/plain": [
              "array([ 0. ,  2.5,  5. ,  7.5, 10. ])"
            ]
          },
          "metadata": {},
          "execution_count": 18
        }
      ]
    },
    {
      "cell_type": "markdown",
      "source": [
        "eye and identity"
      ],
      "metadata": {
        "id": "Ys3asusdczxK"
      }
    },
    {
      "cell_type": "code",
      "source": [
        "print(np.eye(2,3))\n",
        "\n",
        "print(\"identity\")\n",
        "print(np.identity(5))\n",
        "#both produce 1's in diagonal, eye is flexible on size and shape, while identity is square shaped\n",
        "print(np.eye(1))"
      ],
      "metadata": {
        "colab": {
          "base_uri": "https://localhost:8080/"
        },
        "id": "8ZNQ4PuIkc4h",
        "outputId": "0ca5ad0a-4493-4341-c25b-63cbe898171a"
      },
      "execution_count": null,
      "outputs": [
        {
          "output_type": "stream",
          "name": "stdout",
          "text": [
            "[[1. 0. 0.]\n",
            " [0. 1. 0.]]\n",
            "identity\n",
            "[[1. 0. 0. 0. 0.]\n",
            " [0. 1. 0. 0. 0.]\n",
            " [0. 0. 1. 0. 0.]\n",
            " [0. 0. 0. 1. 0.]\n",
            " [0. 0. 0. 0. 1.]]\n",
            "[[1.]]\n"
          ]
        }
      ]
    },
    {
      "cell_type": "markdown",
      "source": [
        "Random"
      ],
      "metadata": {
        "id": "Uf1LLRUtlD4-"
      }
    },
    {
      "cell_type": "code",
      "source": [
        "import random\n",
        "number = random.randint(0,100)\n",
        "print (number)\n",
        "number = random.random() # floating point no.\n",
        "print (number)\n",
        "listR = [random.randint(0,100) for _ in range(10)] #list comprehension to generate a list of 10 random intergers between 0 to 100\n",
        "print(listR)"
      ],
      "metadata": {
        "colab": {
          "base_uri": "https://localhost:8080/"
        },
        "id": "TPpM03WEeWOl",
        "outputId": "c0cc449a-189e-40c3-9136-55681baf1b58"
      },
      "execution_count": null,
      "outputs": [
        {
          "output_type": "stream",
          "name": "stdout",
          "text": [
            "99\n",
            "0.7417821128643081\n",
            "[10, 21, 79, 45, 1, 46, 56, 19, 7, 6]\n"
          ]
        }
      ]
    },
    {
      "cell_type": "code",
      "source": [
        "random.randint(0,100)"
      ],
      "metadata": {
        "colab": {
          "base_uri": "https://localhost:8080/"
        },
        "id": "UarY8z84jxIV",
        "outputId": "3cff386c-c695-4179-fffc-1eb9efff9ba7"
      },
      "execution_count": null,
      "outputs": [
        {
          "output_type": "execute_result",
          "data": {
            "text/plain": [
              "51"
            ]
          },
          "metadata": {},
          "execution_count": 39
        }
      ]
    },
    {
      "cell_type": "code",
      "source": [
        "D1 = np.random.randint(0,10,9)\n",
        "print(D1)"
      ],
      "metadata": {
        "colab": {
          "base_uri": "https://localhost:8080/"
        },
        "id": "6OSpLPQtjxFh",
        "outputId": "d17e3cc3-8c9e-4a41-9d0d-64f1cdf87fda"
      },
      "execution_count": null,
      "outputs": [
        {
          "output_type": "stream",
          "name": "stdout",
          "text": [
            "[6 4 3 9 9 1 9 2 2]\n"
          ]
        }
      ]
    },
    {
      "cell_type": "code",
      "source": [
        "rand1 = np.random.randint (0,10,4)\n",
        "print(rand1)\n",
        "print(np.random.randint(0,19,(2,5)))\n",
        "print(np.random.rand(2,5))"
      ],
      "metadata": {
        "colab": {
          "base_uri": "https://localhost:8080/"
        },
        "id": "Eq4UcyT3gZxi",
        "outputId": "15af1644-2f24-4071-cf68-8d6b590638e6"
      },
      "execution_count": null,
      "outputs": [
        {
          "output_type": "stream",
          "name": "stdout",
          "text": [
            "[6 4 6 8]\n",
            "[[ 7 11  2  8  5]\n",
            " [17  9  1  6  0]]\n",
            "[[0.6225604  0.62830043 0.2165749  0.99108909 0.37882884]\n",
            " [0.1044495  0.87923718 0.8944452  0.16620407 0.94387411]]\n"
          ]
        }
      ]
    },
    {
      "cell_type": "markdown",
      "source": [
        "Indexing"
      ],
      "metadata": {
        "id": "u7g1bO4coHQD"
      }
    },
    {
      "cell_type": "code",
      "source": [
        "D1[5] # 5th index"
      ],
      "metadata": {
        "colab": {
          "base_uri": "https://localhost:8080/"
        },
        "id": "SOgshXProDeX",
        "outputId": "86fc9e64-70c5-4c22-d7b8-f77eb728f0f5"
      },
      "execution_count": null,
      "outputs": [
        {
          "output_type": "execute_result",
          "data": {
            "text/plain": [
              "np.int64(1)"
            ]
          },
          "metadata": {},
          "execution_count": 38
        }
      ]
    },
    {
      "cell_type": "code",
      "source": [
        "D1[2:5]"
      ],
      "metadata": {
        "colab": {
          "base_uri": "https://localhost:8080/"
        },
        "id": "z39uRbRCoFar",
        "outputId": "ac39cf68-d369-45a3-9111-10e45ec11927"
      },
      "execution_count": null,
      "outputs": [
        {
          "output_type": "execute_result",
          "data": {
            "text/plain": [
              "array([3, 9, 9])"
            ]
          },
          "metadata": {},
          "execution_count": 40
        }
      ]
    },
    {
      "cell_type": "code",
      "source": [
        "D1[5:2:-1]"
      ],
      "metadata": {
        "colab": {
          "base_uri": "https://localhost:8080/"
        },
        "id": "NFO5v87Ip3R-",
        "outputId": "3a028c2e-ec4b-4f17-89fd-925c33d9da11"
      },
      "execution_count": null,
      "outputs": [
        {
          "output_type": "execute_result",
          "data": {
            "text/plain": [
              "array([1, 9, 9])"
            ]
          },
          "metadata": {},
          "execution_count": 41
        }
      ]
    },
    {
      "cell_type": "code",
      "source": [
        "D2 = np.random.randint(0,1,(2,3))"
      ],
      "metadata": {
        "colab": {
          "base_uri": "https://localhost:8080/"
        },
        "id": "IDAIAXaykfqV",
        "outputId": "8ed5042e-b798-4e65-ec31-901843a6a6b5"
      },
      "execution_count": null,
      "outputs": [
        {
          "output_type": "execute_result",
          "data": {
            "text/plain": [
              "array([[0, 0, 0],\n",
              "       [0, 0, 0]])"
            ]
          },
          "metadata": {},
          "execution_count": 17
        }
      ]
    },
    {
      "cell_type": "code",
      "source": [
        "#random with Standard normal distribution\n",
        "np.random.randn(4,3)"
      ],
      "metadata": {
        "colab": {
          "base_uri": "https://localhost:8080/"
        },
        "id": "11_7zD7GkBae",
        "outputId": "3122344e-b9fa-434b-e869-7ea458b82966"
      },
      "execution_count": null,
      "outputs": [
        {
          "output_type": "execute_result",
          "data": {
            "text/plain": [
              "array([[ 1.01259542,  0.02153571,  0.83666849],\n",
              "       [-0.88062216,  0.34079453,  0.63013028],\n",
              "       [-0.18103812, -0.46861819, -0.36846775],\n",
              "       [-1.65242104, -0.3332004 , -0.10023827]])"
            ]
          },
          "metadata": {},
          "execution_count": 7
        }
      ]
    },
    {
      "cell_type": "code",
      "source": [
        "#random array 2d with 4 rows and 3 columns\n",
        "play = np.random.rand(4,3)\n",
        "print(play)"
      ],
      "metadata": {
        "colab": {
          "base_uri": "https://localhost:8080/"
        },
        "id": "NNgGN5x3j64j",
        "outputId": "95e31538-fa78-4a0b-e979-1dddd4ab10f9"
      },
      "execution_count": null,
      "outputs": [
        {
          "output_type": "stream",
          "name": "stdout",
          "text": [
            "[[0.79696035 0.9833976  0.30897678]\n",
            " [0.50188172 0.7207822  0.72686153]\n",
            " [0.33382808 0.71212606 0.8554655 ]\n",
            " [0.97163692 0.78111996 0.63424175]]\n"
          ]
        }
      ]
    },
    {
      "cell_type": "code",
      "source": [
        "play.reshape(1,12)"
      ],
      "metadata": {
        "colab": {
          "base_uri": "https://localhost:8080/"
        },
        "id": "-U9yh3VaksvL",
        "outputId": "e5739ae7-53d6-40dc-b561-4426bf8ea499"
      },
      "execution_count": null,
      "outputs": [
        {
          "output_type": "execute_result",
          "data": {
            "text/plain": [
              "array([[0.79696035, 0.9833976 , 0.30897678, 0.50188172, 0.7207822 ,\n",
              "        0.72686153, 0.33382808, 0.71212606, 0.8554655 , 0.97163692,\n",
              "        0.78111996, 0.63424175]])"
            ]
          },
          "metadata": {},
          "execution_count": 46
        }
      ]
    },
    {
      "cell_type": "code",
      "source": [
        "play.T"
      ],
      "metadata": {
        "colab": {
          "base_uri": "https://localhost:8080/"
        },
        "id": "WBlKinVSl7t2",
        "outputId": "595eec8b-f62b-432b-b7bc-b36915e298e9"
      },
      "execution_count": null,
      "outputs": [
        {
          "output_type": "execute_result",
          "data": {
            "text/plain": [
              "array([[0.97172669, 0.79502396, 0.17148632, 0.8485364 ],\n",
              "       [0.35566456, 0.94715249, 0.52198012, 0.20665538],\n",
              "       [0.80829524, 0.67198139, 0.45893516, 0.75978627]])"
            ]
          },
          "metadata": {},
          "execution_count": 24
        }
      ]
    },
    {
      "cell_type": "code",
      "source": [
        "play"
      ],
      "metadata": {
        "colab": {
          "base_uri": "https://localhost:8080/"
        },
        "id": "2Rnx7MORmksL",
        "outputId": "888197fe-83de-41b9-c557-97765447d52b"
      },
      "execution_count": null,
      "outputs": [
        {
          "output_type": "execute_result",
          "data": {
            "text/plain": [
              "array([[0.97172669, 0.35566456, 0.80829524],\n",
              "       [0.79502396, 0.94715249, 0.67198139],\n",
              "       [0.17148632, 0.52198012, 0.45893516],\n",
              "       [0.8485364 , 0.20665538, 0.75978627]])"
            ]
          },
          "metadata": {},
          "execution_count": 25
        }
      ]
    },
    {
      "cell_type": "code",
      "source": [
        "play.dtype"
      ],
      "metadata": {
        "colab": {
          "base_uri": "https://localhost:8080/"
        },
        "id": "VQOH7Zu-msp2",
        "outputId": "bcf11016-50f2-4588-f1cd-c9ac7bacda43"
      },
      "execution_count": null,
      "outputs": [
        {
          "output_type": "execute_result",
          "data": {
            "text/plain": [
              "dtype('float64')"
            ]
          },
          "metadata": {},
          "execution_count": 26
        }
      ]
    },
    {
      "cell_type": "code",
      "source": [],
      "metadata": {
        "id": "dXH3e-ppnxbQ"
      },
      "execution_count": null,
      "outputs": []
    },
    {
      "cell_type": "markdown",
      "source": [
        "hi!!! Now i am going to recall the above concepts\n",
        "\n",
        "1.   Install, import and check version\n",
        "2.   Different ways of creating a numpy array, check type\n",
        "3.   Creating 1,2,3 and multi dimension array\n",
        "4.   Create array with zeros and Ones.  \n",
        "5.   Create array with unitialzed values, and with constant (empty,full)\n",
        "6.   Create a 1,2-D identity, and a flexible identity array (eye, identity)\n",
        "7.   Create an array with spaced elements  ( arange, linspace)\n",
        "8.   Create array with random intergers in a range (random, mean,std)\n",
        "9.   Change array value type with astype()\n",
        "10.  Can i loop over a numpy array?\n",
        "11.  Perform operations add, subs, multiply, div\n",
        "12.  Accessing elements of numpy array"
      ],
      "metadata": {
        "id": "Kz7HnU803yZN"
      }
    },
    {
      "cell_type": "code",
      "source": [
        "# Install, import and check version\n",
        "!pip install numpy"
      ],
      "metadata": {
        "id": "gq1a-4e1333o",
        "colab": {
          "base_uri": "https://localhost:8080/"
        },
        "outputId": "02b60c40-606a-4cf7-fabb-7b69b8968225"
      },
      "execution_count": null,
      "outputs": [
        {
          "output_type": "stream",
          "name": "stdout",
          "text": [
            "Requirement already satisfied: numpy in /usr/local/lib/python3.12/dist-packages (2.0.2)\n"
          ]
        }
      ]
    },
    {
      "cell_type": "code",
      "source": [
        "import numpy as np\n",
        "np.__version__"
      ],
      "metadata": {
        "colab": {
          "base_uri": "https://localhost:8080/",
          "height": 36
        },
        "id": "EEItwbO32dXc",
        "outputId": "ecf96bb2-2248-45a6-99ad-47ce8e60c4dd"
      },
      "execution_count": 1,
      "outputs": [
        {
          "output_type": "execute_result",
          "data": {
            "text/plain": [
              "'2.0.2'"
            ],
            "application/vnd.google.colaboratory.intrinsic+json": {
              "type": "string"
            }
          },
          "metadata": {},
          "execution_count": 1
        }
      ]
    },
    {
      "cell_type": "markdown",
      "source": [
        "## Different ways of creating a numpy array.\n",
        "*create array with empty, zeros, ones,constant values, eye, identity, arange, linspace, random number(int,float)*"
      ],
      "metadata": {
        "id": "4AmOwdA24pR4"
      }
    },
    {
      "cell_type": "code",
      "source": [
        "# Create with list and tuple\n",
        "listarray = np.array([2,34,1,1]) #list\n",
        "print(listarray)\n",
        "tuplearray = np.array((1,4,2,6,2))\n",
        "print(tuplearray)"
      ],
      "metadata": {
        "colab": {
          "base_uri": "https://localhost:8080/"
        },
        "id": "HujrMKXn2mWM",
        "outputId": "163f3406-6a77-4c40-8515-4209b8cfa5e6"
      },
      "execution_count": null,
      "outputs": [
        {
          "output_type": "stream",
          "name": "stdout",
          "text": [
            "[ 2 34  1  1]\n",
            "[1 4 2 6 2]\n"
          ]
        }
      ]
    },
    {
      "cell_type": "code",
      "source": [
        "# create with zero's, one's\n",
        "#\n",
        "d1zeroarray = np.zeros(5)\n",
        "\n",
        "print(\"1-D zeroarray\")\n",
        "print(d1zeroarray)\n",
        "zeroarry = np.zeros(5, int)\n",
        "print(\"1-D zeroarray with data types specified\")\n",
        "print(zeroarray)\n",
        "zeroarray = np.zeros((3,4)) #2D array with tuple of int\n",
        "print(\"2D zeroarray\")\n",
        "print(zeroarray)\n",
        "onearray  = np.ones((2,5),int)\n",
        "print(\"2D onearray with data type\\n\",onearray)"
      ],
      "metadata": {
        "colab": {
          "base_uri": "https://localhost:8080/"
        },
        "id": "9Ma_pR304NUa",
        "outputId": "cbe22a16-75d4-4489-cf97-07214ac872fc"
      },
      "execution_count": null,
      "outputs": [
        {
          "output_type": "stream",
          "name": "stdout",
          "text": [
            "1-D zeroarray\n",
            "[0. 0. 0. 0. 0.]\n",
            "1-D zeroarray with data types specified\n",
            "[[0. 0. 0. 0.]\n",
            " [0. 0. 0. 0.]\n",
            " [0. 0. 0. 0.]]\n",
            "2D zeroarray\n",
            "[[0. 0. 0. 0.]\n",
            " [0. 0. 0. 0.]\n",
            " [0. 0. 0. 0.]]\n",
            "2D onearray with data type\n",
            " [[1 1 1 1 1]\n",
            " [1 1 1 1 1]]\n"
          ]
        }
      ]
    },
    {
      "cell_type": "code",
      "source": [
        "#create array with empty\n",
        "emptyarray = np.empty(5)\n",
        "print(emptyarray)\n",
        "emptyarray = np.empty((3,4))\n",
        "print(\"emptyarray with shape\\n\", emptyarray)"
      ],
      "metadata": {
        "colab": {
          "base_uri": "https://localhost:8080/"
        },
        "id": "6rOilg9A7RJT",
        "outputId": "2bff9cc7-20c3-4949-eceb-5651828837b9"
      },
      "execution_count": null,
      "outputs": [
        {
          "output_type": "stream",
          "name": "stdout",
          "text": [
            "[0. 0. 0. 0. 0.]\n",
            "emptyarray with shape\n",
            " [[0. 0. 0. 0.]\n",
            " [0. 0. 0. 0.]\n",
            " [0. 0. 0. 0.]]\n"
          ]
        }
      ]
    },
    {
      "cell_type": "code",
      "source": [
        "# create  a filed array with constant\n",
        "constantnoarray = np.full((4,4),3)\n",
        "print(constantnoarray)"
      ],
      "metadata": {
        "colab": {
          "base_uri": "https://localhost:8080/"
        },
        "id": "Pm-EaTOg20tf",
        "outputId": "3cd17a6a-8041-43f2-a614-2cd306f229fb"
      },
      "execution_count": null,
      "outputs": [
        {
          "output_type": "stream",
          "name": "stdout",
          "text": [
            "[[3 3 3 3]\n",
            " [3 3 3 3]\n",
            " [3 3 3 3]\n",
            " [3 3 3 3]]\n"
          ]
        }
      ]
    },
    {
      "cell_type": "code",
      "source": [
        "# create array with eye and identity\n",
        "identityarray = np.identity(5,int)\n",
        "print(identityarray)\n",
        "eyearray= np.eye(5,3)\n",
        "eyearray"
      ],
      "metadata": {
        "colab": {
          "base_uri": "https://localhost:8080/"
        },
        "id": "8Pz6zwf9_Rju",
        "outputId": "44ffff7c-99d0-4ead-8c89-ef463a4806ca"
      },
      "execution_count": null,
      "outputs": [
        {
          "output_type": "stream",
          "name": "stdout",
          "text": [
            "[[1 0 0 0 0]\n",
            " [0 1 0 0 0]\n",
            " [0 0 1 0 0]\n",
            " [0 0 0 1 0]\n",
            " [0 0 0 0 1]]\n"
          ]
        },
        {
          "output_type": "execute_result",
          "data": {
            "text/plain": [
              "array([[1., 0., 0.],\n",
              "       [0., 1., 0.],\n",
              "       [0., 0., 1.],\n",
              "       [0., 0., 0.],\n",
              "       [0., 0., 0.]])"
            ]
          },
          "metadata": {},
          "execution_count": 34
        }
      ]
    },
    {
      "cell_type": "code",
      "source": [
        "# arange and linspace\n",
        "arangearray = np.arange(2 , 20 ,3) #start, stop,step\n",
        "print(arangearray )\n",
        "linspacearray = np.linspace(3,13,5) #start,stop, no. of values required\n",
        "linspacearray"
      ],
      "metadata": {
        "colab": {
          "base_uri": "https://localhost:8080/"
        },
        "id": "bIuFnmbEAhwD",
        "outputId": "383dc625-50fc-48c5-f48d-d3500864c43d"
      },
      "execution_count": null,
      "outputs": [
        {
          "output_type": "stream",
          "name": "stdout",
          "text": [
            "[ 2  5  8 11 14 17]\n"
          ]
        },
        {
          "output_type": "execute_result",
          "data": {
            "text/plain": [
              "array([ 3. ,  5.5,  8. , 10.5, 13. ])"
            ]
          },
          "metadata": {},
          "execution_count": 40
        }
      ]
    },
    {
      "cell_type": "code",
      "source": [
        "# random array\n",
        "randomarray = np.random.randint(3,8, (3,3))\n",
        "print(randomarray)"
      ],
      "metadata": {
        "colab": {
          "base_uri": "https://localhost:8080/"
        },
        "id": "vJwiapfZCE6-",
        "outputId": "4d4bcf0c-6d55-4c62-9ed6-bf5e2382c802"
      },
      "execution_count": null,
      "outputs": [
        {
          "output_type": "stream",
          "name": "stdout",
          "text": [
            "[[3 5 4]\n",
            " [5 4 4]\n",
            " [5 3 4]]\n"
          ]
        }
      ]
    },
    {
      "cell_type": "code",
      "source": [
        "arr1d = np.array ( [2,34,5,65,1])\n",
        "arr2d = np.array ([[2,3,4],[4,6,7]])\n",
        "\n",
        "arr = np.array([[[23,24,1],[54,23,7]],\n",
        "                  [[8,12,4],[3,2,0]]\n",
        "                ])\n",
        "print(arr1d.ndim)\n",
        "print(arr2d.ndim)\n",
        "print(arr.ndim)\n",
        "arr = np.array([1, 2, 3, 4], ndmin=5)\n",
        "\n",
        "print(arr)"
      ],
      "metadata": {
        "id": "kTx381m5DX95",
        "colab": {
          "base_uri": "https://localhost:8080/"
        },
        "outputId": "b065fa1a-4405-4e10-9d25-40cd97dd4c54"
      },
      "execution_count": 10,
      "outputs": [
        {
          "output_type": "stream",
          "name": "stdout",
          "text": [
            "1\n",
            "2\n",
            "3\n",
            "[[[[[1 2 3 4]]]]]\n"
          ]
        }
      ]
    },
    {
      "cell_type": "code",
      "source": [
        "# !pip install numpy\n",
        "import numpy as np\n",
        "# np.__version__\n",
        "array1 = np.array([1,2,35,6,1,3])\n",
        "array2 = np.array((2,35,32,13,))\n",
        "array3 = np.zeros((4,5)) # only (5) means 1x5 i..e 5 values in 1D array\n",
        "array4 = np.ones(4,int) # 1x4 values of interger type, bydefault its float type for ones and zeros\n",
        "array5 = np.empty(3)\n",
        "# filed with constant, eye,identity\n",
        "array6 = np.full([5,1],45)\n",
        "array7 = np.eye(N=6,M= 6,k=0, dtype=int)\n",
        "array8 = np.identity(5,dtype= int)\n",
        "array9 = np.arange(0,40,7)\n",
        "array10 = np.linspace(0,40,10,dtype= int)\n",
        "array11 = np.random.rand(2,3)\n",
        "array12 = np.random.randint(low=3, high= 12, size=[3,5,2],)\n",
        "# standard deviotion with random randn, test other randoms\n",
        "array13 = np.random.randn(12,3,)\n",
        "array14 = 3 + 2.5 *(np.random.randn(4,3))\n",
        "print(array14)\n",
        "print(np.mean(array14))\n",
        "print(np.std(array14))"
      ],
      "metadata": {
        "colab": {
          "base_uri": "https://localhost:8080/"
        },
        "id": "MZk_3oqoy0n2",
        "outputId": "83114e52-d03d-4332-c3b2-f9c7b7246b2a"
      },
      "execution_count": 2,
      "outputs": [
        {
          "output_type": "stream",
          "name": "stdout",
          "text": [
            "[[5.55186477 4.74990824 1.11547114]\n",
            " [0.75950994 5.35678137 8.7985338 ]\n",
            " [0.48751321 7.45243775 2.9793687 ]\n",
            " [0.77375882 0.7157796  1.10364014]]\n",
            "3.3203806236299163\n",
            "2.8284026109588147\n"
          ]
        }
      ]
    },
    {
      "cell_type": "code",
      "source": [
        "#print type of array1 and convert to someother datatype with (astype)\n",
        "print(array1.dtype)\n",
        "np.astype(array1, np.float64 ) # copy array one, convert values to float )"
      ],
      "metadata": {
        "colab": {
          "base_uri": "https://localhost:8080/"
        },
        "id": "1oHSUeTS1Kc6",
        "outputId": "3ae127ea-95a0-4e69-88b5-508ca964e498"
      },
      "execution_count": null,
      "outputs": [
        {
          "output_type": "stream",
          "name": "stdout",
          "text": [
            "int64\n"
          ]
        },
        {
          "output_type": "execute_result",
          "data": {
            "text/plain": [
              "array([ 1.,  2., 35.,  6.,  1.,  3.])"
            ]
          },
          "metadata": {},
          "execution_count": 14
        }
      ]
    },
    {
      "cell_type": "code",
      "source": [
        "np.random.choice(10,5,0) #stop,no. of values, 0 = no repeat | 1 =repeat"
      ],
      "metadata": {
        "colab": {
          "base_uri": "https://localhost:8080/"
        },
        "id": "v_jtZKC6cNcz",
        "outputId": "e048985b-377b-45a3-992f-a296c506ca2a"
      },
      "execution_count": null,
      "outputs": [
        {
          "output_type": "execute_result",
          "data": {
            "text/plain": [
              "array([5, 7, 8, 1, 4])"
            ]
          },
          "metadata": {},
          "execution_count": 35
        }
      ]
    },
    {
      "cell_type": "code",
      "source": [
        "# Want to reproduce same results with random\n",
        "np.random.seed(42) #set a seed\n",
        "array15 = np.random.rand(3)\n",
        "\n",
        "array16 = np.random.rand(3)\n",
        "\n",
        "#activate same seed again\n",
        "np.random.seed(42)\n",
        "array17 = np.random.rand(3)\n"
      ],
      "metadata": {
        "id": "mWvjxgpvcKOS"
      },
      "execution_count": null,
      "outputs": []
    },
    {
      "cell_type": "code",
      "source": [
        "print('array15 with seed(42): ', array15)\n",
        "print('array16 without seed: ', array16)\n",
        "print('array17 with same seed(42): ', array17)"
      ],
      "metadata": {
        "colab": {
          "base_uri": "https://localhost:8080/"
        },
        "id": "Qxe5a1aEggwO",
        "outputId": "4bb0db26-428e-4790-8966-224046df60d3"
      },
      "execution_count": null,
      "outputs": [
        {
          "output_type": "stream",
          "name": "stdout",
          "text": [
            "array15 with seed(42):  [0.37454012 0.95071431 0.73199394]\n",
            "array16 without seed:  [0.59865848 0.15601864 0.15599452]\n",
            "array17 with same seed(42):  [0.37454012 0.95071431 0.73199394]\n"
          ]
        }
      ]
    },
    {
      "cell_type": "markdown",
      "source": [
        "Operations:\n",
        "\n",
        "*   max , min, argmax argmin\n",
        "*   shape, reshape , transform"
      ],
      "metadata": {
        "id": "teVU9Y2RWSjD"
      }
    },
    {
      "cell_type": "code",
      "source": [],
      "metadata": {
        "id": "17tSo_8Xl4OD"
      },
      "execution_count": null,
      "outputs": []
    }
  ]
}
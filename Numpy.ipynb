{
  "nbformat": 4,
  "nbformat_minor": 0,
  "metadata": {
    "colab": {
      "provenance": [],
      "authorship_tag": "ABX9TyMZpOzpK3uPK6RYri0pjscB",
      "include_colab_link": true
    },
    "kernelspec": {
      "name": "python3",
      "display_name": "Python 3"
    },
    "language_info": {
      "name": "python"
    }
  },
  "cells": [
    {
      "cell_type": "markdown",
      "metadata": {
        "id": "view-in-github",
        "colab_type": "text"
      },
      "source": [
        "<a href=\"https://colab.research.google.com/github/UUbaidurRehman/ML_DL/blob/main/Numpy.ipynb\" target=\"_parent\"><img src=\"https://colab.research.google.com/assets/colab-badge.svg\" alt=\"Open In Colab\"/></a>"
      ]
    },
    {
      "cell_type": "code",
      "execution_count": null,
      "metadata": {
        "id": "L5nJgoZrjUL7"
      },
      "outputs": [],
      "source": [
        "import numpy as np\n",
        "# import numpy as np"
      ]
    },
    {
      "cell_type": "code",
      "source": [
        "np.__version__\n",
        "# np.__version__"
      ],
      "metadata": {
        "colab": {
          "base_uri": "https://localhost:8080/",
          "height": 36
        },
        "id": "yR0OyI5NYZAQ",
        "outputId": "539d6305-4f96-43c1-c5af-a291ea09cebb"
      },
      "execution_count": null,
      "outputs": [
        {
          "output_type": "execute_result",
          "data": {
            "text/plain": [
              "'2.0.2'"
            ],
            "application/vnd.google.colaboratory.intrinsic+json": {
              "type": "string"
            }
          },
          "metadata": {},
          "execution_count": 2
        }
      ]
    },
    {
      "cell_type": "markdown",
      "source": [
        "# **Creating a numpy array**"
      ],
      "metadata": {
        "id": "tHbiqc-TTB9w"
      }
    },
    {
      "cell_type": "code",
      "source": [
        "# fromm python list to np.array\n",
        "list1 = [1,2,3,4,5,6,7,8,9,10]\n",
        "\n",
        "print(\"list = \", list1)\n",
        "print(\"type of list = \", type(list1))\n",
        "\n",
        "list2 = np.array(list1)\n",
        "print(f\"numpy array = {list2}\", type(list2))"
      ],
      "metadata": {
        "colab": {
          "base_uri": "https://localhost:8080/"
        },
        "id": "iB2bTL7fTBF9",
        "outputId": "2fa6dac6-d537-47c9-f6b6-33a82fa08383"
      },
      "execution_count": null,
      "outputs": [
        {
          "output_type": "stream",
          "name": "stdout",
          "text": [
            "list =  [1, 2, 3, 4, 5, 6, 7, 8, 9, 10]\n",
            "type of list =  <class 'list'>\n",
            "numpy array = [ 1  2  3  4  5  6  7  8  9 10] <class 'numpy.ndarray'>\n"
          ]
        }
      ]
    },
    {
      "cell_type": "code",
      "source": [
        "np.array(list1)"
      ],
      "metadata": {
        "colab": {
          "base_uri": "https://localhost:8080/"
        },
        "id": "ExHTgvaUT4Li",
        "outputId": "bf0b7082-8d44-4c29-d313-7f822cdbe510"
      },
      "execution_count": null,
      "outputs": [
        {
          "output_type": "execute_result",
          "data": {
            "text/plain": [
              "array([ 1,  2,  3,  4,  5,  6,  7,  8,  9, 10])"
            ]
          },
          "metadata": {},
          "execution_count": 4
        }
      ]
    },
    {
      "cell_type": "code",
      "source": [
        "# 2D array / matrix\n",
        "matrix1 = [[1,2,3],[4,5,6],[7,8,9]]\n",
        "np.array(matrix1)"
      ],
      "metadata": {
        "colab": {
          "base_uri": "https://localhost:8080/"
        },
        "id": "_WYJbqSSUJnv",
        "outputId": "ea54475e-84f2-495d-9656-8740bf11b2b6"
      },
      "execution_count": null,
      "outputs": [
        {
          "output_type": "execute_result",
          "data": {
            "text/plain": [
              "array([[1, 2, 3],\n",
              "       [4, 5, 6],\n",
              "       [7, 8, 9]])"
            ]
          },
          "metadata": {},
          "execution_count": 5
        }
      ]
    },
    {
      "cell_type": "markdown",
      "source": [
        "# **Operations**"
      ],
      "metadata": {
        "id": "UXg-tWFYUfxJ"
      }
    },
    {
      "cell_type": "code",
      "source": [
        "#Addition of simple list vs np.array\n",
        "list1 = [1,2,3,4,5,6,7,8,9,10]\n",
        "list2 = [11,12,13,14,15,16,17,18,19,20]\n",
        "print(list1+list2)\n",
        "list1 = np.array(list1)\n",
        "list2 = np.array(list2)\n",
        "print(\"use of + on numpy array = \", list1+list2)"
      ],
      "metadata": {
        "colab": {
          "base_uri": "https://localhost:8080/"
        },
        "id": "D7RMZUqHXobk",
        "outputId": "f574ed5d-b55b-4bee-db95-f66a5c1c3ef3"
      },
      "execution_count": null,
      "outputs": [
        {
          "output_type": "stream",
          "name": "stdout",
          "text": [
            "[1, 2, 3, 4, 5, 6, 7, 8, 9, 10, 11, 12, 13, 14, 15, 16, 17, 18, 19, 20]\n",
            "use of + on numpy array =  [12 14 16 18 20 22 24 26 28 30]\n"
          ]
        }
      ]
    },
    {
      "cell_type": "code",
      "source": [
        "import time\n",
        "begin = time.time()\n",
        "listA = list(range(1000000))\n",
        "listB = list(range(1000000))\n",
        "result = []\n",
        "start = time.time()\n",
        "for i in range(len(listA)):\n",
        "  result.append(listA[i] + listB[i])\n",
        "end = time.time()\n",
        "print(\"addition of lists time:      \", end - start)\n",
        "arrayA = np.array (listA)\n",
        "arrayB = np.array (listB)\n",
        "start = time.time()\n",
        "result = arrayA + arrayB\n",
        "end = time.time()\n",
        "print(\"addition of NUmpy array time:\", end - start)\n",
        "final = time.time()\n",
        "print(final- begin)"
      ],
      "metadata": {
        "colab": {
          "base_uri": "https://localhost:8080/"
        },
        "id": "09-685ydWv2H",
        "outputId": "8680e99e-92c0-4bd4-c4c4-62ab10aa8ea5"
      },
      "execution_count": null,
      "outputs": [
        {
          "output_type": "stream",
          "name": "stdout",
          "text": [
            "addition of lists time:       0.3452625274658203\n",
            "addition of NUmpy array time: 0.05959296226501465\n",
            "0.8641927242279053\n"
          ]
        }
      ]
    },
    {
      "cell_type": "code",
      "source": [
        "import time\n",
        "listA = list(range(10000000))\n",
        "listB = list(range(10000000))\n",
        "start = time.time()\n",
        "result = []\n",
        "for i in range(len(listA)):\n",
        "    result.append((listA[i]  + listB[i]))\n",
        "end = time.time()\n",
        "print(\"time taken = \", end-start)\n",
        "\n",
        "listA = np.array(listA)\n",
        "listB = np.array(listB)\n",
        "start = time.time()\n",
        "result = listA + listB\n",
        "end = time.time()\n",
        "print(\"time taken by numpy array \", end - start)"
      ],
      "metadata": {
        "colab": {
          "base_uri": "https://localhost:8080/"
        },
        "id": "QEODE88nMqTI",
        "outputId": "4bc64478-19f0-4fd5-e1ac-1cae7291f09d"
      },
      "execution_count": null,
      "outputs": [
        {
          "output_type": "stream",
          "name": "stdout",
          "text": [
            "time taken =  3.551345109939575\n",
            "time taken by numpy array  0.19345545768737793\n"
          ]
        }
      ]
    },
    {
      "cell_type": "code",
      "source": [
        "print(list(range(0,100,5)))"
      ],
      "metadata": {
        "colab": {
          "base_uri": "https://localhost:8080/"
        },
        "id": "V52O1GxONoh8",
        "outputId": "a28a01d5-0f37-460c-f14f-7e76ab6b9d87"
      },
      "execution_count": null,
      "outputs": [
        {
          "output_type": "stream",
          "name": "stdout",
          "text": [
            "[0, 5, 10, 15, 20, 25, 30, 35, 40, 45, 50, 55, 60, 65, 70, 75, 80, 85, 90, 95]\n"
          ]
        }
      ]
    },
    {
      "cell_type": "markdown",
      "source": [
        "array with **zeros, and ones**"
      ],
      "metadata": {
        "id": "ya02Ez-ncvPk"
      }
    },
    {
      "cell_type": "code",
      "source": [
        "print(np.zeros(3))\n",
        "print(np.zeros((2,4)))\n",
        "print(np.ones(5))\n",
        "print(np.ones((5,5)))"
      ],
      "metadata": {
        "colab": {
          "base_uri": "https://localhost:8080/"
        },
        "id": "dGxM7oO6jqC5",
        "outputId": "453c80da-477f-4aaa-dd7f-4d6747f6ae87"
      },
      "execution_count": null,
      "outputs": [
        {
          "output_type": "stream",
          "name": "stdout",
          "text": [
            "[0. 0. 0.]\n",
            "[[0. 0. 0. 0.]\n",
            " [0. 0. 0. 0.]]\n",
            "[1. 1. 1. 1. 1.]\n",
            "[[1. 1. 1. 1. 1.]\n",
            " [1. 1. 1. 1. 1.]\n",
            " [1. 1. 1. 1. 1.]\n",
            " [1. 1. 1. 1. 1.]\n",
            " [1. 1. 1. 1. 1.]]\n"
          ]
        }
      ]
    },
    {
      "cell_type": "markdown",
      "source": [
        "# **arange:**\n",
        "spaced values in array with given interval"
      ],
      "metadata": {
        "id": "dFoxp_qAc2yg"
      }
    },
    {
      "cell_type": "code",
      "source": [
        "#start, stop, and step\n",
        "print(np.arange(0,10))\n",
        "print(np.arange(0,50,6))"
      ],
      "metadata": {
        "colab": {
          "base_uri": "https://localhost:8080/"
        },
        "id": "9PuNof6AYTTv",
        "outputId": "bff3ed05-af32-4906-d5af-b8c11b6c1270"
      },
      "execution_count": null,
      "outputs": [
        {
          "output_type": "stream",
          "name": "stdout",
          "text": [
            "[0 1 2 3 4 5 6 7 8 9]\n",
            "[ 0  6 12 18 24 30 36 42 48]\n"
          ]
        }
      ]
    },
    {
      "cell_type": "markdown",
      "source": [
        "# **Linspace**:\n",
        "spaced number of values"
      ],
      "metadata": {
        "id": "ssmp-WBedefZ"
      }
    },
    {
      "cell_type": "code",
      "source": [
        "#start,inclusive stop,number of values\n",
        "np.linspace(0,10,5)"
      ],
      "metadata": {
        "colab": {
          "base_uri": "https://localhost:8080/"
        },
        "id": "WSd2jcL7kIS8",
        "outputId": "b1180257-4ea2-4abf-f80d-9a054b0bfe95"
      },
      "execution_count": null,
      "outputs": [
        {
          "output_type": "execute_result",
          "data": {
            "text/plain": [
              "array([ 0. ,  2.5,  5. ,  7.5, 10. ])"
            ]
          },
          "metadata": {},
          "execution_count": 12
        }
      ]
    },
    {
      "cell_type": "markdown",
      "source": [
        "# **eye and identity**"
      ],
      "metadata": {
        "id": "Ys3asusdczxK"
      }
    },
    {
      "cell_type": "code",
      "source": [
        "print(np.eye(2,3))\n",
        "\n",
        "print(\"identity\")\n",
        "print(np.identity(5))\n",
        "#both produce 1's in diagonal, eye is flexible on size and shape, while identity is square shaped\n",
        "print(np.eye(1))"
      ],
      "metadata": {
        "colab": {
          "base_uri": "https://localhost:8080/"
        },
        "id": "8ZNQ4PuIkc4h",
        "outputId": "c6568e59-9328-4391-8743-fa976f047c83"
      },
      "execution_count": null,
      "outputs": [
        {
          "output_type": "stream",
          "name": "stdout",
          "text": [
            "[[1. 0. 0.]\n",
            " [0. 1. 0.]]\n",
            "identity\n",
            "[[1. 0. 0. 0. 0.]\n",
            " [0. 1. 0. 0. 0.]\n",
            " [0. 0. 1. 0. 0.]\n",
            " [0. 0. 0. 1. 0.]\n",
            " [0. 0. 0. 0. 1.]]\n",
            "[[1.]]\n"
          ]
        }
      ]
    },
    {
      "cell_type": "markdown",
      "source": [
        "# **Random Array**"
      ],
      "metadata": {
        "id": "Uf1LLRUtlD4-"
      }
    },
    {
      "cell_type": "code",
      "source": [
        "import random\n",
        "number = random.randint(0,100)\n",
        "print (number)\n",
        "number = random.random() # floating point no.\n",
        "print (number)\n",
        "listR = [random.randint(0,100) for _ in range(10)] #list comprehension to generate a list of 10 random intergers between 0 to 100\n",
        "print(listR)"
      ],
      "metadata": {
        "colab": {
          "base_uri": "https://localhost:8080/"
        },
        "id": "TPpM03WEeWOl",
        "outputId": "aba38738-5648-404d-a367-1dfded63106c"
      },
      "execution_count": null,
      "outputs": [
        {
          "output_type": "stream",
          "name": "stdout",
          "text": [
            "73\n",
            "0.8828063964102224\n",
            "[94, 19, 8, 91, 8, 86, 10, 85, 28, 2]\n"
          ]
        }
      ]
    },
    {
      "cell_type": "code",
      "source": [
        "random.randint(0,100)"
      ],
      "metadata": {
        "colab": {
          "base_uri": "https://localhost:8080/"
        },
        "id": "UarY8z84jxIV",
        "outputId": "10fad4a2-a107-47a3-febf-8c44a789eff5"
      },
      "execution_count": null,
      "outputs": [
        {
          "output_type": "execute_result",
          "data": {
            "text/plain": [
              "19"
            ]
          },
          "metadata": {},
          "execution_count": 15
        }
      ]
    },
    {
      "cell_type": "code",
      "source": [
        "D1 = np.random.randint(0,10,9)\n",
        "print(D1)"
      ],
      "metadata": {
        "colab": {
          "base_uri": "https://localhost:8080/"
        },
        "id": "6OSpLPQtjxFh",
        "outputId": "ce638a22-933d-4df5-d4de-d289277519a5"
      },
      "execution_count": null,
      "outputs": [
        {
          "output_type": "stream",
          "name": "stdout",
          "text": [
            "[1 2 2 6 5 5 3 6 1]\n"
          ]
        }
      ]
    },
    {
      "cell_type": "code",
      "source": [
        "rand1 = np.random.randint (0,10,4)\n",
        "print(rand1)\n",
        "print(np.random.randint(0,19,(2,5)))\n",
        "print(np.random.rand(2,5))"
      ],
      "metadata": {
        "colab": {
          "base_uri": "https://localhost:8080/"
        },
        "id": "Eq4UcyT3gZxi",
        "outputId": "09612d76-8b89-45dd-ba7d-eecef327c681"
      },
      "execution_count": null,
      "outputs": [
        {
          "output_type": "stream",
          "name": "stdout",
          "text": [
            "[8 2 0 0]\n",
            "[[12  7  1 14 13]\n",
            " [18 12  6 13 10]]\n",
            "[[0.96664334 0.319241   0.15148754 0.56339923 0.64833075]\n",
            " [0.99919688 0.93847952 0.49580148 0.12663972 0.54609635]]\n"
          ]
        }
      ]
    },
    {
      "cell_type": "markdown",
      "source": [
        "# **Indexing**"
      ],
      "metadata": {
        "id": "u7g1bO4coHQD"
      }
    },
    {
      "cell_type": "code",
      "source": [
        "D1[5] # 5th index"
      ],
      "metadata": {
        "colab": {
          "base_uri": "https://localhost:8080/"
        },
        "id": "SOgshXProDeX",
        "outputId": "231dcf91-2c92-4c0a-de77-56d5c370089f"
      },
      "execution_count": null,
      "outputs": [
        {
          "output_type": "execute_result",
          "data": {
            "text/plain": [
              "np.int64(5)"
            ]
          },
          "metadata": {},
          "execution_count": 18
        }
      ]
    },
    {
      "cell_type": "code",
      "source": [
        "D1[2:5]"
      ],
      "metadata": {
        "colab": {
          "base_uri": "https://localhost:8080/"
        },
        "id": "z39uRbRCoFar",
        "outputId": "e4dd1cae-c8eb-461f-8b8f-47c911112c0d"
      },
      "execution_count": null,
      "outputs": [
        {
          "output_type": "execute_result",
          "data": {
            "text/plain": [
              "array([2, 6, 5])"
            ]
          },
          "metadata": {},
          "execution_count": 19
        }
      ]
    },
    {
      "cell_type": "code",
      "source": [
        "D1[5:2:-1]"
      ],
      "metadata": {
        "colab": {
          "base_uri": "https://localhost:8080/"
        },
        "id": "NFO5v87Ip3R-",
        "outputId": "fa9493da-ed54-4187-e394-cb4c5515e8bf"
      },
      "execution_count": null,
      "outputs": [
        {
          "output_type": "execute_result",
          "data": {
            "text/plain": [
              "array([5, 5, 6])"
            ]
          },
          "metadata": {},
          "execution_count": 20
        }
      ]
    },
    {
      "cell_type": "code",
      "source": [
        "D2 = np.random.randint(0,1,(2,3))"
      ],
      "metadata": {
        "id": "IDAIAXaykfqV"
      },
      "execution_count": null,
      "outputs": []
    },
    {
      "cell_type": "code",
      "source": [],
      "metadata": {
        "id": "iusq7OrtWv4s",
        "colab": {
          "base_uri": "https://localhost:8080/"
        },
        "outputId": "6fc0409e-6680-4195-9ee2-31710ea6816d"
      },
      "execution_count": null,
      "outputs": [
        {
          "output_type": "stream",
          "name": "stdout",
          "text": [
            "[[23  6 24  3 30]\n",
            " [31  9  8 16 34]\n",
            " [12 35 36 16 11]\n",
            " [ 9 19 19  7  2]]\n",
            "[31  9  8 16 34]\n"
          ]
        }
      ]
    },
    {
      "cell_type": "code",
      "source": [
        "#random with Standard normal distribution\n",
        "np.random.randn(4,3)"
      ],
      "metadata": {
        "colab": {
          "base_uri": "https://localhost:8080/"
        },
        "id": "11_7zD7GkBae",
        "outputId": "8cb85504-90ec-4367-f801-dcec8b72c7cb"
      },
      "execution_count": null,
      "outputs": [
        {
          "output_type": "execute_result",
          "data": {
            "text/plain": [
              "array([[ 0.74968245,  0.55624563,  0.76080415],\n",
              "       [-1.27965782, -0.88059169, -1.22396198],\n",
              "       [-0.03133445, -1.37123689, -0.77602033],\n",
              "       [ 3.17079311,  0.18952125,  1.84100261]])"
            ]
          },
          "metadata": {},
          "execution_count": 22
        }
      ]
    },
    {
      "cell_type": "code",
      "source": [
        "#random array 2d with 4 rows and 3 columns\n",
        "play = np.random.rand(4,3)\n",
        "print(play)"
      ],
      "metadata": {
        "colab": {
          "base_uri": "https://localhost:8080/"
        },
        "id": "NNgGN5x3j64j",
        "outputId": "dc6ceaae-0545-4b18-f0dd-2bb78e2211c5"
      },
      "execution_count": null,
      "outputs": [
        {
          "output_type": "stream",
          "name": "stdout",
          "text": [
            "[[0.50025982 0.94411615 0.33788421]\n",
            " [0.02492239 0.35875746 0.45597763]\n",
            " [0.47343718 0.37071157 0.33381367]\n",
            " [0.66393189 0.63620464 0.85882819]]\n"
          ]
        }
      ]
    },
    {
      "cell_type": "code",
      "source": [
        "play.reshape(1,12)"
      ],
      "metadata": {
        "colab": {
          "base_uri": "https://localhost:8080/"
        },
        "id": "-U9yh3VaksvL",
        "outputId": "2155ea8c-80ef-43c4-b905-08c8a81587cd"
      },
      "execution_count": null,
      "outputs": [
        {
          "output_type": "execute_result",
          "data": {
            "text/plain": [
              "array([[0.50025982, 0.94411615, 0.33788421, 0.02492239, 0.35875746,\n",
              "        0.45597763, 0.47343718, 0.37071157, 0.33381367, 0.66393189,\n",
              "        0.63620464, 0.85882819]])"
            ]
          },
          "metadata": {},
          "execution_count": 24
        }
      ]
    },
    {
      "cell_type": "code",
      "source": [
        "play.T"
      ],
      "metadata": {
        "colab": {
          "base_uri": "https://localhost:8080/"
        },
        "id": "WBlKinVSl7t2",
        "outputId": "42ebf614-a15a-43df-d5d8-976f65bbcc9d"
      },
      "execution_count": null,
      "outputs": [
        {
          "output_type": "execute_result",
          "data": {
            "text/plain": [
              "array([[0.50025982, 0.02492239, 0.47343718, 0.66393189],\n",
              "       [0.94411615, 0.35875746, 0.37071157, 0.63620464],\n",
              "       [0.33788421, 0.45597763, 0.33381367, 0.85882819]])"
            ]
          },
          "metadata": {},
          "execution_count": 25
        }
      ]
    },
    {
      "cell_type": "code",
      "source": [
        "play"
      ],
      "metadata": {
        "colab": {
          "base_uri": "https://localhost:8080/"
        },
        "id": "2Rnx7MORmksL",
        "outputId": "52a1577c-9b56-4a65-d91c-0ae0e58a8ab2"
      },
      "execution_count": null,
      "outputs": [
        {
          "output_type": "execute_result",
          "data": {
            "text/plain": [
              "array([[0.50025982, 0.94411615, 0.33788421],\n",
              "       [0.02492239, 0.35875746, 0.45597763],\n",
              "       [0.47343718, 0.37071157, 0.33381367],\n",
              "       [0.66393189, 0.63620464, 0.85882819]])"
            ]
          },
          "metadata": {},
          "execution_count": 26
        }
      ]
    },
    {
      "cell_type": "code",
      "source": [
        "play.dtype"
      ],
      "metadata": {
        "colab": {
          "base_uri": "https://localhost:8080/"
        },
        "id": "VQOH7Zu-msp2",
        "outputId": "0206dc64-57c1-43aa-a0f5-f18c833d820f"
      },
      "execution_count": null,
      "outputs": [
        {
          "output_type": "execute_result",
          "data": {
            "text/plain": [
              "dtype('float64')"
            ]
          },
          "metadata": {},
          "execution_count": 27
        }
      ]
    },
    {
      "cell_type": "code",
      "source": [],
      "metadata": {
        "id": "dXH3e-ppnxbQ"
      },
      "execution_count": null,
      "outputs": []
    },
    {
      "cell_type": "markdown",
      "source": [
        "# **Revisting conepts**\n",
        "\n",
        "1.   Install, import and check version\n",
        "2.   Different ways of creating a numpy array, check type\n",
        "3.   Creating 1,2,3 and multi dimension array\n",
        "4.   Create array with zeros and Ones.  \n",
        "5.   Create array with unitialzed values, and with constant (empty,full)\n",
        "6.   Create a 1,2-D identity, and a flexible identity array (eye, identity)\n",
        "7.   Create an array with spaced elements  ( arange, linspace)\n",
        "8.   Create array with random intergers in a range (random, mean,std)\n",
        "9.   Change array value type with astype()\n",
        "10.  Can i loop over a numpy array?\n",
        "11.  Perform operations add, subs, multiply, div\n",
        "12.  Accessing elements of numpy array"
      ],
      "metadata": {
        "id": "Kz7HnU803yZN"
      }
    },
    {
      "cell_type": "code",
      "source": [
        "# Install, import and check version\n",
        "!pip install numpy"
      ],
      "metadata": {
        "id": "gq1a-4e1333o",
        "colab": {
          "base_uri": "https://localhost:8080/"
        },
        "outputId": "754c8304-6a87-4866-b8da-52b6b2da701e"
      },
      "execution_count": null,
      "outputs": [
        {
          "output_type": "stream",
          "name": "stdout",
          "text": [
            "Requirement already satisfied: numpy in /usr/local/lib/python3.12/dist-packages (2.0.2)\n"
          ]
        }
      ]
    },
    {
      "cell_type": "code",
      "source": [
        "import numpy as np\n",
        "np.__version__"
      ],
      "metadata": {
        "colab": {
          "base_uri": "https://localhost:8080/",
          "height": 36
        },
        "id": "EEItwbO32dXc",
        "outputId": "d6a367be-d9af-42b4-fc78-12a6fa12ae2c"
      },
      "execution_count": null,
      "outputs": [
        {
          "output_type": "execute_result",
          "data": {
            "text/plain": [
              "'2.0.2'"
            ],
            "application/vnd.google.colaboratory.intrinsic+json": {
              "type": "string"
            }
          },
          "metadata": {},
          "execution_count": 29
        }
      ]
    },
    {
      "cell_type": "markdown",
      "source": [
        "## Different ways of creating a numpy array.\n",
        "*create array with empty, zeros, ones,constant values, eye, identity, arange, linspace, random number(int,float)*"
      ],
      "metadata": {
        "id": "4AmOwdA24pR4"
      }
    },
    {
      "cell_type": "code",
      "source": [
        "# Create with list and tuple\n",
        "listarray = np.array([2,34,1,1]) #list\n",
        "print(listarray)\n",
        "tuplearray = np.array((1,4,2,6,2))\n",
        "print(tuplearray)"
      ],
      "metadata": {
        "colab": {
          "base_uri": "https://localhost:8080/"
        },
        "id": "HujrMKXn2mWM",
        "outputId": "2ef79480-a845-4fe0-f5b9-979008818f52"
      },
      "execution_count": null,
      "outputs": [
        {
          "output_type": "stream",
          "name": "stdout",
          "text": [
            "[ 2 34  1  1]\n",
            "[1 4 2 6 2]\n"
          ]
        }
      ]
    },
    {
      "cell_type": "code",
      "source": [
        "# create with zero's, one's\n",
        "#\n",
        "d1zeroarray = np.zeros(5)\n",
        "print(\"1-D zeroarray\")\n",
        "print(d1zeroarray)\n",
        "zeroarray = np.zeros(5, int)\n",
        "print(\"1-D zeroarray with data types specified\")\n",
        "print(zeroarray)\n",
        "zeroarray = np.zeros((3,4)) #2D array with tuple of int\n",
        "print(\"2D zeroarray\")\n",
        "print(zeroarray)\n",
        "onearray  = np.ones((2,5),int)\n",
        "print(\"2D onearray with data type\\n\",onearray)"
      ],
      "metadata": {
        "colab": {
          "base_uri": "https://localhost:8080/"
        },
        "id": "9Ma_pR304NUa",
        "outputId": "4db1f2af-62f4-4240-b4ab-e9f34549c6e2"
      },
      "execution_count": null,
      "outputs": [
        {
          "output_type": "stream",
          "name": "stdout",
          "text": [
            "1-D zeroarray\n",
            "[0. 0. 0. 0. 0.]\n",
            "1-D zeroarray with data types specified\n",
            "[0 0 0 0 0]\n",
            "2D zeroarray\n",
            "[[0. 0. 0. 0.]\n",
            " [0. 0. 0. 0.]\n",
            " [0. 0. 0. 0.]]\n",
            "2D onearray with data type\n",
            " [[1 1 1 1 1]\n",
            " [1 1 1 1 1]]\n"
          ]
        }
      ]
    },
    {
      "cell_type": "code",
      "source": [
        "#create array with empty\n",
        "emptyarray = np.empty(5)\n",
        "print(emptyarray)\n",
        "emptyarray = np.empty((3,4))\n",
        "print(\"emptyarray with shape\\n\", emptyarray)"
      ],
      "metadata": {
        "colab": {
          "base_uri": "https://localhost:8080/"
        },
        "id": "6rOilg9A7RJT",
        "outputId": "498072cb-2098-4828-bbbd-5f313942b92e"
      },
      "execution_count": null,
      "outputs": [
        {
          "output_type": "stream",
          "name": "stdout",
          "text": [
            "[0. 0. 0. 0. 0.]\n",
            "emptyarray with shape\n",
            " [[0. 0. 0. 0.]\n",
            " [0. 0. 0. 0.]\n",
            " [0. 0. 0. 0.]]\n"
          ]
        }
      ]
    },
    {
      "cell_type": "code",
      "source": [
        "# create  a filed array with constant\n",
        "constantnoarray = np.full((4,4),3)\n",
        "print(constantnoarray)"
      ],
      "metadata": {
        "colab": {
          "base_uri": "https://localhost:8080/"
        },
        "id": "Pm-EaTOg20tf",
        "outputId": "5048c900-6e2f-46af-ca56-f7be37b5bb22"
      },
      "execution_count": null,
      "outputs": [
        {
          "output_type": "stream",
          "name": "stdout",
          "text": [
            "[[3 3 3 3]\n",
            " [3 3 3 3]\n",
            " [3 3 3 3]\n",
            " [3 3 3 3]]\n"
          ]
        }
      ]
    },
    {
      "cell_type": "code",
      "source": [
        "# create array with eye and identity\n",
        "identityarray = np.identity(5,int)\n",
        "print(identityarray)\n",
        "eyearray= np.eye(5,3)\n",
        "eyearray"
      ],
      "metadata": {
        "colab": {
          "base_uri": "https://localhost:8080/"
        },
        "id": "8Pz6zwf9_Rju",
        "outputId": "d27cfc12-6034-4eeb-c011-e61c00ff0f40"
      },
      "execution_count": null,
      "outputs": [
        {
          "output_type": "stream",
          "name": "stdout",
          "text": [
            "[[1 0 0 0 0]\n",
            " [0 1 0 0 0]\n",
            " [0 0 1 0 0]\n",
            " [0 0 0 1 0]\n",
            " [0 0 0 0 1]]\n"
          ]
        },
        {
          "output_type": "execute_result",
          "data": {
            "text/plain": [
              "array([[1., 0., 0.],\n",
              "       [0., 1., 0.],\n",
              "       [0., 0., 1.],\n",
              "       [0., 0., 0.],\n",
              "       [0., 0., 0.]])"
            ]
          },
          "metadata": {},
          "execution_count": 36
        }
      ]
    },
    {
      "cell_type": "code",
      "source": [
        "# arange and linspace\n",
        "arangearray = np.arange(2 , 20 ,3) #start, stop,step\n",
        "print(arangearray )\n",
        "linspacearray = np.linspace(3,13,5) #start,stop, no. of values required\n",
        "linspacearray"
      ],
      "metadata": {
        "colab": {
          "base_uri": "https://localhost:8080/"
        },
        "id": "bIuFnmbEAhwD",
        "outputId": "b03f69cb-d150-4ddc-f0a3-559db866a0e2"
      },
      "execution_count": null,
      "outputs": [
        {
          "output_type": "stream",
          "name": "stdout",
          "text": [
            "[ 2  5  8 11 14 17]\n"
          ]
        },
        {
          "output_type": "execute_result",
          "data": {
            "text/plain": [
              "array([ 3. ,  5.5,  8. , 10.5, 13. ])"
            ]
          },
          "metadata": {},
          "execution_count": 37
        }
      ]
    },
    {
      "cell_type": "code",
      "source": [
        "# random array\n",
        "randomarray = np.random.randint(3,8, (3,3))\n",
        "print(randomarray)"
      ],
      "metadata": {
        "colab": {
          "base_uri": "https://localhost:8080/"
        },
        "id": "vJwiapfZCE6-",
        "outputId": "69252aa9-ded4-4093-fb7e-68700e51dfb4"
      },
      "execution_count": null,
      "outputs": [
        {
          "output_type": "stream",
          "name": "stdout",
          "text": [
            "[[6 4 6]\n",
            " [4 7 5]\n",
            " [3 3 5]]\n"
          ]
        }
      ]
    },
    {
      "cell_type": "code",
      "source": [
        "# dimensional Arrays\n",
        "arr1d = np.array ( [2,34,5,65,1])\n",
        "arr2d = np.array ([[2,3,4],[4,6,7]])\n",
        "\n",
        "arr = np.array([[[23,24,1],[54,23,7]],\n",
        "                  [[8,12,4],[3,2,0]]\n",
        "                ])\n",
        "print(arr1d.ndim)\n",
        "print(arr2d.ndim)\n",
        "print(arr.ndim)\n",
        "arr = np.array([1, 2, 3, 4], ndmin=5)\n",
        "\n",
        "print(arr)"
      ],
      "metadata": {
        "id": "kTx381m5DX95",
        "colab": {
          "base_uri": "https://localhost:8080/"
        },
        "outputId": "05436940-392c-401c-8ac8-5e2d46fe9aa4"
      },
      "execution_count": null,
      "outputs": [
        {
          "output_type": "stream",
          "name": "stdout",
          "text": [
            "1\n",
            "2\n",
            "3\n",
            "[[[[[1 2 3 4]]]]]\n"
          ]
        }
      ]
    },
    {
      "cell_type": "code",
      "source": [
        "# !pip install numpy\n",
        "import numpy as np\n",
        "# np.__version__\n",
        "array1 = np.array([1,2,35,6,1,3])\n",
        "array2 = np.array((2,35,32,13,))\n",
        "array3 = np.zeros((4,5)) # only (5) means 1x5 i..e 5 values in 1D array\n",
        "array4 = np.ones(4,int) # 1x4 values of interger type, bydefault its float type for ones and zeros\n",
        "array5 = np.empty(3)\n",
        "# filed with constant, eye,identity\n",
        "array6 = np.full([5,1],45)\n",
        "array7 = np.eye(N=6,M= 6,k=0, dtype=int)\n",
        "array8 = np.identity(5,dtype= int)\n",
        "array9 = np.arange(0,40,7)\n",
        "array10 = np.linspace(0,40,10,dtype= int)\n"
      ],
      "metadata": {
        "id": "MZk_3oqoy0n2"
      },
      "execution_count": null,
      "outputs": []
    },
    {
      "cell_type": "code",
      "source": [
        "#print type of array1 and convert to someother datatype with (astype)\n",
        "print(array1.dtype)\n",
        "np.astype(array1, np.float64 ) # copy array one, convert values to float )"
      ],
      "metadata": {
        "colab": {
          "base_uri": "https://localhost:8080/"
        },
        "id": "1oHSUeTS1Kc6",
        "outputId": "3ee68cbc-ccd1-415f-e02b-170c19d2bad8"
      },
      "execution_count": null,
      "outputs": [
        {
          "output_type": "stream",
          "name": "stdout",
          "text": [
            "int64\n"
          ]
        },
        {
          "output_type": "execute_result",
          "data": {
            "text/plain": [
              "array([ 1.,  2., 35.,  6.,  1.,  3.])"
            ]
          },
          "metadata": {},
          "execution_count": 41
        }
      ]
    },
    {
      "cell_type": "code",
      "source": [
        "array11 = np.random.rand(2,3)\n",
        "array12 = np.random.randint(low=3, high= 12, size=[3,5,2],)\n",
        "# standard deviation with random randn, test other randoms\n",
        "array13 = np.random.randn(12,3,)\n",
        "array14 = 3 + 2.5 *(np.random.randn(4,3))\n",
        "print(array14)\n",
        "print(np.mean(array14))\n",
        "print(np.std(array14))\n",
        "np.random.choice(10,5,0) #stop,no. of values, 0 = no repeat | 1 =repeat"
      ],
      "metadata": {
        "colab": {
          "base_uri": "https://localhost:8080/"
        },
        "id": "v_jtZKC6cNcz",
        "outputId": "ee18b726-ce69-4bfb-d68e-58c3929abf11"
      },
      "execution_count": null,
      "outputs": [
        {
          "output_type": "stream",
          "name": "stdout",
          "text": [
            "[[-0.52939887  5.33103102  2.69898593]\n",
            " [ 4.82138526  4.0499282   0.12234962]\n",
            " [ 5.59049051 -1.65997604  2.97859874]\n",
            " [ 0.8526689   3.17883413  1.39662565]]\n",
            "2.402626921283852\n",
            "2.2737575205953786\n"
          ]
        },
        {
          "output_type": "execute_result",
          "data": {
            "text/plain": [
              "array([5, 8, 1, 4, 0])"
            ]
          },
          "metadata": {},
          "execution_count": 42
        }
      ]
    },
    {
      "cell_type": "code",
      "source": [
        "# Want to reproduce same results with random\n",
        "np.random.seed(42) #set a seed\n",
        "array15 = np.random.rand(3)\n",
        "\n",
        "array16 = np.random.rand(3)\n",
        "\n",
        "#activate same seed again\n",
        "np.random.seed(42)\n",
        "array17 = np.random.rand(3)\n"
      ],
      "metadata": {
        "id": "mWvjxgpvcKOS"
      },
      "execution_count": null,
      "outputs": []
    },
    {
      "cell_type": "code",
      "source": [
        "print('array15 with seed(42): ', array15)\n",
        "print('array16 without seed: ', array16)\n",
        "print('array17 with same seed(42): ', array17)"
      ],
      "metadata": {
        "colab": {
          "base_uri": "https://localhost:8080/"
        },
        "id": "Qxe5a1aEggwO",
        "outputId": "fa6f0453-5a5d-4e0a-c8d8-bb922e461518"
      },
      "execution_count": null,
      "outputs": [
        {
          "output_type": "stream",
          "name": "stdout",
          "text": [
            "array15 with seed(42):  [0.37454012 0.95071431 0.73199394]\n",
            "array16 without seed:  [0.59865848 0.15601864 0.15599452]\n",
            "array17 with same seed(42):  [0.37454012 0.95071431 0.73199394]\n"
          ]
        }
      ]
    },
    {
      "cell_type": "markdown",
      "source": [
        "Operations:\n",
        "\n",
        "*   size, shape, max , min, argmax argmin\n",
        "*   mean , median , prod, sum, std\n",
        "*   reshape , transform, T\n",
        "*   \n",
        "\n",
        "\n",
        "\n",
        "\n"
      ],
      "metadata": {
        "id": "teVU9Y2RWSjD"
      }
    },
    {
      "cell_type": "code",
      "source": [
        "print(array1)\n",
        "print(array1.size, array1.shape)\n",
        "\n",
        "print (str(np.max(array1)) + \" index of max value \" + str(np.argmax(array1)))\n",
        "min_array1 = (np.min(array1))\n",
        "index_min_array1 = np.argmin(array1)\n",
        "print(f\"Minimum value in array 1 is {min_array1} and its index is {index_min_array1}\")\n",
        "\n",
        "sum_array1 = np.sum(array1)\n",
        "product_array1 = np.prod(array1)\n",
        "print(f\"the sum of array1 values is {sum_array1} and product of array1 values is {product_array1}\")\n",
        "print(np.mean(array1))\n",
        "print(np.median(array1))\n",
        "print(np.std(array1))\n"
      ],
      "metadata": {
        "id": "17tSo_8Xl4OD",
        "colab": {
          "base_uri": "https://localhost:8080/"
        },
        "outputId": "05ff6da8-7bcf-4382-c1f5-42283623b7f5"
      },
      "execution_count": null,
      "outputs": [
        {
          "output_type": "stream",
          "name": "stdout",
          "text": [
            "[ 1  2 35  6  1  3]\n",
            "6 (6,)\n",
            "35 index of max value 2\n",
            "Minimum value in array 1 is 1 and its index is 0\n",
            "the sum of array1 values is 48 and product of array1 values is 1260\n",
            "8.0\n",
            "2.5\n",
            "12.192894105447921\n"
          ]
        }
      ]
    },
    {
      "cell_type": "code",
      "source": [
        "randarray = np.random.randint(low = 0, high = 50, size = 15)\n",
        "print(randarray)\n",
        "print(randarray.shape)\n",
        "rerandarray = randarray.reshape(3,5)\n",
        "print(rerandarray)\n",
        "print(rerandarray.shape)\n",
        "print(rerandarray.size)"
      ],
      "metadata": {
        "colab": {
          "base_uri": "https://localhost:8080/"
        },
        "id": "RK7WlGchLjcS",
        "outputId": "a0252c06-ee31-44c6-be2a-7c286f00faa7"
      },
      "execution_count": null,
      "outputs": [
        {
          "output_type": "stream",
          "name": "stdout",
          "text": [
            "[20 38 18 22 10 10 23 35 39 23  2 21  1 23 43]\n",
            "(15,)\n",
            "[[20 38 18 22 10]\n",
            " [10 23 35 39 23]\n",
            " [ 2 21  1 23 43]]\n",
            "(3, 5)\n",
            "15\n"
          ]
        }
      ]
    },
    {
      "cell_type": "code",
      "source": [
        "# transpose and T on 1-D array\n",
        "print(np.transpose(randarray))\n",
        "print(randarray.T)"
      ],
      "metadata": {
        "colab": {
          "base_uri": "https://localhost:8080/"
        },
        "id": "di0ddcysMyh8",
        "outputId": "dde3298a-9632-45e4-b26e-87138b39ebf6"
      },
      "execution_count": null,
      "outputs": [
        {
          "output_type": "stream",
          "name": "stdout",
          "text": [
            "[20 38 18 22 10 10 23 35 39 23  2 21  1 23 43]\n",
            "[20 38 18 22 10 10 23 35 39 23  2 21  1 23 43]\n"
          ]
        }
      ]
    },
    {
      "cell_type": "code",
      "source": [
        "# Transpose and T on 2-D array\n",
        "Transposedarray = rerandarray.T\n",
        "print(Transposedarray)\n",
        "print(Transposedarray[1][1])"
      ],
      "metadata": {
        "colab": {
          "base_uri": "https://localhost:8080/"
        },
        "id": "skXVwWxVMthY",
        "outputId": "04505735-74d4-4b1c-8b8b-ee027e6d43ec"
      },
      "execution_count": null,
      "outputs": [
        {
          "output_type": "stream",
          "name": "stdout",
          "text": [
            "[[20 10  2]\n",
            " [38 23 21]\n",
            " [18 35  1]\n",
            " [22 39 23]\n",
            " [10 23 43]]\n",
            "23\n"
          ]
        }
      ]
    },
    {
      "cell_type": "markdown",
      "source": [
        "# **Indexing and Slicing**"
      ],
      "metadata": {
        "id": "nbMDB3-Kju-B"
      }
    },
    {
      "cell_type": "code",
      "metadata": {
        "colab": {
          "base_uri": "https://localhost:8080/"
        },
        "id": "6bfe2132",
        "outputId": "4a94e0a9-9405-4a87-b5b3-37569a4bddd0"
      },
      "source": [
        "# Accessing a slice of a 2D array\n",
        "print(Transposedarray)\n",
        "print(Transposedarray[1:3, 0:2]) # This slices rows from index 1 up to (but not including) index 3, and columns from index 0 up to (but not including) index 2."
      ],
      "execution_count": null,
      "outputs": [
        {
          "output_type": "stream",
          "name": "stdout",
          "text": [
            "[[20 10  2]\n",
            " [38 23 21]\n",
            " [18 35  1]\n",
            " [22 39 23]\n",
            " [10 23 43]]\n",
            "[[38 23]\n",
            " [18 35]]\n"
          ]
        }
      ]
    },
    {
      "cell_type": "code",
      "source": [
        "print(Transposedarray[:, 1]) #get column 1 values of all the rows"
      ],
      "metadata": {
        "colab": {
          "base_uri": "https://localhost:8080/"
        },
        "id": "3e529eBPMVNP",
        "outputId": "94f9f522-a6e3-4c12-baa3-b5b5c26650db"
      },
      "execution_count": null,
      "outputs": [
        {
          "output_type": "stream",
          "name": "stdout",
          "text": [
            "[[ 3 18 17 13  1]\n",
            " [14 21  6 17 20]\n",
            " [13 20  2 11  5]\n",
            " [12 37  3 18  0]]\n",
            "[18 21 20 37]\n"
          ]
        }
      ]
    },
    {
      "cell_type": "code",
      "source": [
        "print(Transposedarray[0:3,2])"
      ],
      "metadata": {
        "colab": {
          "base_uri": "https://localhost:8080/"
        },
        "id": "W-CnuGOyiZAU",
        "outputId": "46447353-27c8-4eda-aba8-8c08c495977a"
      },
      "execution_count": null,
      "outputs": [
        {
          "output_type": "stream",
          "name": "stdout",
          "text": [
            "[ 2 21  1]\n"
          ]
        }
      ]
    },
    {
      "cell_type": "code",
      "source": [
        "print(Transposedarray.flatten(order='C')) # row major\n",
        "print(Transposedarray.ravel())\n",
        "print(Transposedarray.flat[14]) #flat gets the element\n",
        "print(Transposedarray.flatten(order = 'F')) # column major"
      ],
      "metadata": {
        "colab": {
          "base_uri": "https://localhost:8080/"
        },
        "id": "30VcYY9nVCLU",
        "outputId": "6606375b-c598-4847-9ba6-4529ceba8c3a"
      },
      "execution_count": null,
      "outputs": [
        {
          "output_type": "stream",
          "name": "stdout",
          "text": [
            "[20 10  2 38 23 21 18 35  1 22 39 23 10 23 43]\n",
            "[20 10  2 38 23 21 18 35  1 22 39 23 10 23 43]\n",
            "43\n",
            "[20 38 18 22 10 10 23 35 39 23  2 21  1 23 43]\n"
          ]
        }
      ]
    },
    {
      "cell_type": "code",
      "source": [
        "import numpy as np\n",
        "test_column = np.random.randint(0,40,(4,5))\n",
        "print (test_column)\n",
        "print(test_column[:][1])"
      ],
      "metadata": {
        "id": "jwnUWVdLbjin"
      },
      "execution_count": null,
      "outputs": []
    },
    {
      "cell_type": "markdown",
      "source": [
        "# Concatenate and split"
      ],
      "metadata": {
        "id": "IvFUDyRIlcCL"
      }
    },
    {
      "cell_type": "code",
      "source": [
        "\n",
        "concate_array = np.concatenate((array1,randarray), axis = 0)\n",
        "print(concate_array)\n",
        "arr1 = np.random.randint(0,40,10)\n",
        "arr2 = np.random.randint(40,80,10)\n",
        "print(arr1,arr2)\n",
        "concate_array12 = np.concatenate((arr1,arr2),axis = 0)\n",
        "print (concate_array12)\n",
        "# Reshape 1D arrays to 2D arrays before concatenating along axis=1\n",
        "concate_array12 = np.concatenate((arr1.reshape(-1, 1), arr2.reshape(-1, 1)), axis=1)\n",
        "print (concate_array12)"
      ],
      "metadata": {
        "colab": {
          "base_uri": "https://localhost:8080/"
        },
        "id": "LZnOKEj3Mn6o",
        "outputId": "55a9a8ae-afad-4cc0-cefe-d14012a0b785"
      },
      "execution_count": null,
      "outputs": [
        {
          "output_type": "stream",
          "name": "stdout",
          "text": [
            "[ 1  2 35  6  1  3 20 38 18 22 10 10 23 35 39 23  2 21  1 23 43]\n",
            "[29 37  1 20 32 11 21 24 26 27] [55 54 42 76 46 60 48 78 57 43]\n",
            "[29 37  1 20 32 11 21 24 26 27 55 54 42 76 46 60 48 78 57 43]\n",
            "[[29 55]\n",
            " [37 54]\n",
            " [ 1 42]\n",
            " [20 76]\n",
            " [32 46]\n",
            " [11 60]\n",
            " [21 48]\n",
            " [24 78]\n",
            " [26 57]\n",
            " [27 43]]\n"
          ]
        }
      ]
    },
    {
      "cell_type": "code",
      "source": [
        "arr1.reshape(-1, 1)"
      ],
      "metadata": {
        "colab": {
          "base_uri": "https://localhost:8080/"
        },
        "id": "oVF3VcadcvOd",
        "outputId": "c42688b8-4742-4a6f-fadc-ca950cff56e3"
      },
      "execution_count": null,
      "outputs": [
        {
          "output_type": "execute_result",
          "data": {
            "text/plain": [
              "array([[29],\n",
              "       [37],\n",
              "       [ 1],\n",
              "       [20],\n",
              "       [32],\n",
              "       [11],\n",
              "       [21],\n",
              "       [24],\n",
              "       [26],\n",
              "       [27]])"
            ]
          },
          "metadata": {},
          "execution_count": 54
        }
      ]
    },
    {
      "cell_type": "code",
      "source": [
        "picture1 = np.random.randint(0,50,(5,6))\n",
        "picture2 = np.random.randint(50,100,(5,6))\n",
        "print(picture1, \" \\n\")\n",
        "print(picture2, \" \\n\")\n",
        "con_picture = np.concatenate((picture1,picture2),axis = 0)\n",
        "print(con_picture)\n",
        "con_picture = np.concatenate((picture1,picture2),axis = 1)\n",
        "print(con_picture)"
      ],
      "metadata": {
        "colab": {
          "base_uri": "https://localhost:8080/"
        },
        "id": "nJZQ2oM9p1ZQ",
        "outputId": "120a8655-7769-49eb-bf35-29f42307e1f7"
      },
      "execution_count": null,
      "outputs": [
        {
          "output_type": "stream",
          "name": "stdout",
          "text": [
            "[[24 13 49  8 25  1]\n",
            " [19 27 46  6 43  7]\n",
            " [46 34 13 16 35 49]\n",
            " [39  3  1  5 41  3]\n",
            " [28 17 25 43 33  9]]  \n",
            "\n",
            "[[85 63 80 97 64 57]\n",
            " [63 72 89 70 65 94]\n",
            " [67 96 73 75 74 94]\n",
            " [90 78 64 94 50 74]\n",
            " [56 58 73 50 93 57]]  \n",
            "\n",
            "[[24 13 49  8 25  1]\n",
            " [19 27 46  6 43  7]\n",
            " [46 34 13 16 35 49]\n",
            " [39  3  1  5 41  3]\n",
            " [28 17 25 43 33  9]\n",
            " [85 63 80 97 64 57]\n",
            " [63 72 89 70 65 94]\n",
            " [67 96 73 75 74 94]\n",
            " [90 78 64 94 50 74]\n",
            " [56 58 73 50 93 57]]\n",
            "[[24 13 49  8 25  1 85 63 80 97 64 57]\n",
            " [19 27 46  6 43  7 63 72 89 70 65 94]\n",
            " [46 34 13 16 35 49 67 96 73 75 74 94]\n",
            " [39  3  1  5 41  3 90 78 64 94 50 74]\n",
            " [28 17 25 43 33  9 56 58 73 50 93 57]]\n"
          ]
        }
      ]
    },
    {
      "cell_type": "code",
      "source": [
        "# split()\n",
        "a,b  = np.split(con_picture, 2, axis=1 )\n",
        "a.flatten(order = 'C')\n",
        "# a,b,c,d,e,f = np.split(con_picture, 6, axis=1)\n",
        "# a\n",
        "# argmax, argmin"
      ],
      "metadata": {
        "colab": {
          "base_uri": "https://localhost:8080/"
        },
        "id": "5uE-X20exMR9",
        "outputId": "357542ab-450d-4397-97a0-4b63f2e508dc"
      },
      "execution_count": null,
      "outputs": [
        {
          "output_type": "execute_result",
          "data": {
            "text/plain": [
              "array([24, 13, 49,  8, 25,  1, 19, 27, 46,  6, 43,  7, 46, 34, 13, 16, 35,\n",
              "       49, 39,  3,  1,  5, 41,  3, 28, 17, 25, 43, 33,  9])"
            ]
          },
          "metadata": {},
          "execution_count": 70
        }
      ]
    },
    {
      "cell_type": "markdown",
      "source": [
        "# 4. Mathematical & Statistical Operations\n",
        "\n",
        "Element-wise: +, -, *, /, **\n",
        "\n",
        "np.add(), np.multiply()"
      ],
      "metadata": {
        "id": "VLR1K0T_lpNy"
      }
    },
    {
      "cell_type": "code",
      "source": [
        "array1 = np.random.randint(5,20, 7)\n",
        "array2 = np.random.randint(20,35,7)\n",
        "array3 = np.random.randint(20,35,2)\n",
        "print (array1)\n",
        "print (array2)\n",
        "print (array3)"
      ],
      "metadata": {
        "colab": {
          "base_uri": "https://localhost:8080/"
        },
        "id": "33T_7hv7mVSA",
        "outputId": "f7787ec4-16b1-4f78-82ba-403c7040c771"
      },
      "execution_count": null,
      "outputs": [
        {
          "output_type": "stream",
          "name": "stdout",
          "text": [
            "[ 7  5  7  9 19 18  7]\n",
            "[20 24 29 26 34 33 26]\n",
            "[30 28]\n"
          ]
        }
      ]
    },
    {
      "cell_type": "code",
      "source": [],
      "metadata": {
        "id": "_n-o7TxEnz7n"
      },
      "execution_count": null,
      "outputs": []
    },
    {
      "cell_type": "code",
      "source": [
        "\n",
        "plus_equal = array1 + array2\n",
        "plus_not_equal = array1 ** 2\n",
        "print(plus_equal)\n",
        "print(plus_not_equal)"
      ],
      "metadata": {
        "colab": {
          "base_uri": "https://localhost:8080/"
        },
        "id": "TM_V7zPEcvKC",
        "outputId": "e6401140-5d28-4a56-89f2-e92ad34fabaa"
      },
      "execution_count": null,
      "outputs": [
        {
          "output_type": "stream",
          "name": "stdout",
          "text": [
            "[27 29 36 35 53 51 33]\n",
            "[ 49  25  49  81 361 324  49]\n"
          ]
        }
      ]
    },
    {
      "cell_type": "code",
      "source": [
        "np.add(array1, array2,)"
      ],
      "metadata": {
        "colab": {
          "base_uri": "https://localhost:8080/"
        },
        "id": "e9VXGjE3mMBG",
        "outputId": "52b7ddc3-af71-4948-d576-0bc2a580d6b5"
      },
      "execution_count": null,
      "outputs": [
        {
          "output_type": "execute_result",
          "data": {
            "text/plain": [
              "array([27, 29, 36, 35, 53, 51, 33])"
            ]
          },
          "metadata": {},
          "execution_count": 95
        }
      ]
    },
    {
      "cell_type": "markdown",
      "source": [
        "Tasks taken from prework numpy notebook attached in: <br>https://developers.google.com/machine-learning/crash-course/prereqs-and-prework"
      ],
      "metadata": {
        "id": "zbngMJlBuyH0"
      }
    },
    {
      "cell_type": "markdown",
      "source": [
        "# Task 1: Create a Linear Dataset\n",
        "Your goal is to create a simple dataset consisting of a single feature and a label as follows:\n",
        "1.   Assign a sequence of integers from 6 to 20 (inclusive) to a NumPy array named feature.\n",
        "2.   Assign 15 values to a NumPy array named label such that:<br>\n",
        "label = (3)(feature) + 4 <br>\n",
        "The first value for label should be:   label = (3)(6) + 4 = 22"
      ],
      "metadata": {
        "id": "x-Urn4GMm4SV"
      }
    },
    {
      "cell_type": "code",
      "source": [
        "import numpy as np\n",
        "feature = np.arange(6,21)"
      ],
      "metadata": {
        "id": "1RoHK8X83829"
      },
      "execution_count": null,
      "outputs": []
    },
    {
      "cell_type": "code",
      "source": [
        "feature"
      ],
      "metadata": {
        "colab": {
          "base_uri": "https://localhost:8080/"
        },
        "id": "jm3bcFn14Vir",
        "outputId": "18044e42-c1e4-440e-b3d3-c1e813dd397c"
      },
      "execution_count": null,
      "outputs": [
        {
          "output_type": "execute_result",
          "data": {
            "text/plain": [
              "array([ 6,  7,  8,  9, 10, 11, 12, 13, 14, 15, 16, 17, 18, 19, 20])"
            ]
          },
          "metadata": {},
          "execution_count": 2
        }
      ]
    },
    {
      "cell_type": "code",
      "source": [
        "# label = (3)(feature) + 4\n",
        "label = np.array([])\n",
        "for i in feature :\n",
        "  label = np.append(label, (3*i+4))\n",
        "label"
      ],
      "metadata": {
        "colab": {
          "base_uri": "https://localhost:8080/"
        },
        "id": "CY81MgyO4Wh7",
        "outputId": "2782cacd-d1ae-4409-a056-b4dd8c8ab482"
      },
      "execution_count": null,
      "outputs": [
        {
          "output_type": "execute_result",
          "data": {
            "text/plain": [
              "array([22., 25., 28., 31., 34., 37., 40., 43., 46., 49., 52., 55., 58.,\n",
              "       61., 64.])"
            ]
          },
          "metadata": {},
          "execution_count": 3
        }
      ]
    },
    {
      "cell_type": "code",
      "source": [
        "label1 = (3 * feature) + 4\n",
        "label1"
      ],
      "metadata": {
        "id": "eu7D-her4_vW",
        "colab": {
          "base_uri": "https://localhost:8080/"
        },
        "outputId": "3887d9cd-8be2-4a31-d0ee-aa92579e0a3d"
      },
      "execution_count": null,
      "outputs": [
        {
          "output_type": "execute_result",
          "data": {
            "text/plain": [
              "array([22, 25, 28, 31, 34, 37, 40, 43, 46, 49, 52, 55, 58, 61, 64])"
            ]
          },
          "metadata": {},
          "execution_count": 4
        }
      ]
    },
    {
      "cell_type": "markdown",
      "source": [
        "# Task 2: Add Some Noise to the Dataset\n",
        "To make your dataset a little more realistic, insert a little random noise into each element of the label array you already created.<br> To be more precise, modify each value assigned to label by adding a different random floating-point value between -2 and +2.\n",
        "\n",
        "Don't rely on broadcasting. Instead, create a noise array having the same dimension as label. <br>\n",
        "noise = ?    # write your code here <br>\n",
        "print(noise) <br>\n",
        "label = ?    # write your code here\n",
        "print(label)"
      ],
      "metadata": {
        "id": "SDnE0Bgpnmy7"
      }
    },
    {
      "cell_type": "code",
      "source": [
        "size = label1.size\n",
        "noise = (np.random.randn(size) * 4 ) -2\n",
        "print(noise )\n",
        "label1 = label1 + noise\n",
        "print(label1)"
      ],
      "metadata": {
        "colab": {
          "base_uri": "https://localhost:8080/"
        },
        "id": "7eARtCEvoB4m",
        "outputId": "1d7b30da-38e5-4061-de8e-4e185c7fd790"
      },
      "execution_count": null,
      "outputs": [
        {
          "output_type": "stream",
          "name": "stdout",
          "text": [
            "[-0.67631978  2.50949573 -4.26475039 -0.85965132 -5.1144795  -1.86409123\n",
            " -9.19968479  7.30802989 -7.77520562 -4.01136808  2.58279181 -3.1373614\n",
            "  2.66755059 -0.76232225 -2.0345597 ]\n",
            "[21.32368022 27.50949573 23.73524961 30.14034868 28.8855205  35.13590877\n",
            " 30.80031521 50.30802989 38.22479438 44.98863192 54.58279181 51.8626386\n",
            " 60.66755059 60.23767775 61.9654403 ]\n"
          ]
        }
      ]
    },
    {
      "cell_type": "markdown",
      "source": [],
      "metadata": {
        "id": "owuo4HMMmqel"
      }
    },
    {
      "cell_type": "code",
      "source": [],
      "metadata": {
        "id": "juzyanV6oa5U"
      },
      "execution_count": null,
      "outputs": []
    },
    {
      "cell_type": "code",
      "source": [],
      "metadata": {
        "id": "EGjxpTkOoeC1"
      },
      "execution_count": null,
      "outputs": []
    }
  ]
}